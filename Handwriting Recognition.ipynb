{
 "cells": [
  {
   "cell_type": "markdown",
   "id": "15915dbd",
   "metadata": {},
   "source": [
    "# Imports"
   ]
  },
  {
   "cell_type": "code",
   "execution_count": 2,
   "id": "27011244",
   "metadata": {},
   "outputs": [
    {
     "name": "stdout",
     "output_type": "stream",
     "text": [
      "WARNING:tensorflow:From D:\\Users\\Enes\\anaconda3\\lib\\site-packages\\tensorflow\\python\\compat\\v2_compat.py:96: disable_resource_variables (from tensorflow.python.ops.variable_scope) is deprecated and will be removed in a future version.\n",
      "Instructions for updating:\n",
      "non-resource variables are not supported in the long term\n"
     ]
    }
   ],
   "source": [
    "from numpy.random import seed\n",
    "seed(888)\n",
    "import tensorflow.compat.v1 as tf\n",
    "tf.disable_v2_behavior()\n",
    "from tensorflow.compat.v1 import set_random_seed\n",
    "set_random_seed(404)"
   ]
  },
  {
   "cell_type": "code",
   "execution_count": 3,
   "id": "be50645a",
   "metadata": {},
   "outputs": [],
   "source": [
    "import os\n",
    "import numpy as np\n",
    "\n",
    "from time import strftime\n",
    "from PIL import Image"
   ]
  },
  {
   "cell_type": "markdown",
   "id": "904f49d6",
   "metadata": {},
   "source": [
    "# Constants"
   ]
  },
  {
   "cell_type": "code",
   "execution_count": 4,
   "id": "271284d8",
   "metadata": {},
   "outputs": [],
   "source": [
    "X_TRAIN_PATH = \"MNIST/digit_xtrain.csv\"\n",
    "X_TEST_PATH = \"MNIST/digit_xtest.csv\"\n",
    "Y_TRAIN_PATH = \"MNIST/digit_ytrain.csv\"\n",
    "Y_TEST_PATH = \"MNIST/digit_ytest.csv\"\n",
    "TEST_IMG_PATH = \"MNIST/test_img.png\"\n",
    "\n",
    "LOGGING_PATH = \"tensorboard_mnsit_digit_logs/\"\n",
    "\n",
    "NR_CLASSES = 10\n",
    "VALIDATION_SIZE = 10000\n",
    "IMG_WIDTH = 28\n",
    "IMG_HEIGHT = 28\n",
    "CHANNELS = 1\n",
    "TOTAL_INPUTS = IMG_HEIGHT*IMG_WIDTH*CHANNELS"
   ]
  },
  {
   "cell_type": "markdown",
   "id": "f90bbb86",
   "metadata": {},
   "source": [
    "# Gather Data"
   ]
  },
  {
   "cell_type": "code",
   "execution_count": 5,
   "id": "438b36e2",
   "metadata": {},
   "outputs": [],
   "source": [
    "y_train_all = np.loadtxt(Y_TRAIN_PATH, delimiter=\",\", dtype=int)\n",
    "y_test = np.loadtxt(Y_TEST_PATH, delimiter=\",\", dtype=int)\n",
    "\n",
    "x_train_all = np.loadtxt(X_TRAIN_PATH, delimiter=\",\", dtype=int)\n",
    "x_test = np.loadtxt(X_TEST_PATH, delimiter=\",\", dtype=int)"
   ]
  },
  {
   "cell_type": "markdown",
   "id": "75f4bb5d",
   "metadata": {},
   "source": [
    "# Explore the Data"
   ]
  },
  {
   "cell_type": "code",
   "execution_count": 6,
   "id": "0f78a616",
   "metadata": {},
   "outputs": [
    {
     "data": {
      "text/plain": [
       "(60000, 784)"
      ]
     },
     "execution_count": 6,
     "metadata": {},
     "output_type": "execute_result"
    }
   ],
   "source": [
    "x_train_all.shape"
   ]
  },
  {
   "cell_type": "code",
   "execution_count": 7,
   "id": "00907170",
   "metadata": {},
   "outputs": [
    {
     "data": {
      "text/plain": [
       "(60000,)"
      ]
     },
     "execution_count": 7,
     "metadata": {},
     "output_type": "execute_result"
    }
   ],
   "source": [
    "y_train_all.shape"
   ]
  },
  {
   "cell_type": "code",
   "execution_count": 8,
   "id": "4a49bc1d",
   "metadata": {},
   "outputs": [
    {
     "data": {
      "text/plain": [
       "array([5, 0, 4, 1, 9])"
      ]
     },
     "execution_count": 8,
     "metadata": {},
     "output_type": "execute_result"
    }
   ],
   "source": [
    "y_train_all[:5]"
   ]
  },
  {
   "cell_type": "markdown",
   "id": "6d63343d",
   "metadata": {},
   "source": [
    "### Convert target values to one-hot encoding"
   ]
  },
  {
   "cell_type": "code",
   "execution_count": 9,
   "id": "52dd9215",
   "metadata": {},
   "outputs": [],
   "source": [
    "y_train_all = np.eye(NR_CLASSES)[y_train_all]"
   ]
  },
  {
   "cell_type": "code",
   "execution_count": 10,
   "id": "28c7872b",
   "metadata": {},
   "outputs": [
    {
     "data": {
      "text/plain": [
       "(60000, 10)"
      ]
     },
     "execution_count": 10,
     "metadata": {},
     "output_type": "execute_result"
    }
   ],
   "source": [
    "y_train_all.shape"
   ]
  },
  {
   "cell_type": "code",
   "execution_count": 11,
   "id": "a4b2d2e2",
   "metadata": {},
   "outputs": [
    {
     "data": {
      "text/plain": [
       "(10000, 10)"
      ]
     },
     "execution_count": 11,
     "metadata": {},
     "output_type": "execute_result"
    }
   ],
   "source": [
    "y_test = np.eye(NR_CLASSES)[y_test]\n",
    "y_test.shape"
   ]
  },
  {
   "cell_type": "markdown",
   "id": "13460bab",
   "metadata": {},
   "source": [
    "### Create Validation dataset from training data"
   ]
  },
  {
   "cell_type": "code",
   "execution_count": 12,
   "id": "2cdabf6d",
   "metadata": {},
   "outputs": [],
   "source": [
    "x_val = x_train_all[:VALIDATION_SIZE]\n",
    "y_val = y_train_all[:VALIDATION_SIZE]"
   ]
  },
  {
   "cell_type": "code",
   "execution_count": 13,
   "id": "7e05aad1",
   "metadata": {},
   "outputs": [],
   "source": [
    "x_train = x_train_all[VALIDATION_SIZE:]\n",
    "y_train = y_train_all[VALIDATION_SIZE:]"
   ]
  },
  {
   "cell_type": "markdown",
   "id": "7fd7ad59",
   "metadata": {},
   "source": [
    "# Setup Tensorflow Graph"
   ]
  },
  {
   "cell_type": "code",
   "execution_count": 14,
   "id": "b343f950",
   "metadata": {},
   "outputs": [],
   "source": [
    "X = tf.placeholder(tf.float32, shape=[None, TOTAL_INPUTS], name=\"X\")\n",
    "Y = tf.placeholder(tf.float32, shape=[None, NR_CLASSES], name=\"labels\")"
   ]
  },
  {
   "cell_type": "markdown",
   "id": "12f1ff5b",
   "metadata": {},
   "source": [
    "## Neurel Network Architecture\n",
    "### Hyperparameters"
   ]
  },
  {
   "cell_type": "code",
   "execution_count": 15,
   "id": "febdd3ad",
   "metadata": {},
   "outputs": [],
   "source": [
    "nr_epochs = 50\n",
    "learning_rate = 1e-3\n",
    "\n",
    "n_hidden1 = 512\n",
    "n_hidden2 = 64"
   ]
  },
  {
   "cell_type": "code",
   "execution_count": 16,
   "id": "034af85f",
   "metadata": {},
   "outputs": [],
   "source": [
    "def setup_layer(input, weight_dim, bias_dim, name):\n",
    "    \n",
    "    with tf.name_scope(name):\n",
    "        initial_w = tf.truncated_normal(shape=weight_dim,\n",
    "                                     stddev=0.1, seed=42)\n",
    "        w = tf.Variable(initial_value=initial_w, name=\"W\")\n",
    "\n",
    "        initial_b = tf.constant(value=0.0, shape=bias_dim)\n",
    "        b = tf.Variable(initial_value=initial_b, name=\"b2\")\n",
    "\n",
    "        layer_in = tf.matmul(input, w) + b\n",
    "        \n",
    "        if name==\"out\":\n",
    "            layer_out = tf.nn.softmax(layer_in)\n",
    "        else:\n",
    "            layer_out = tf.nn.relu(layer_in)\n",
    "            \n",
    "        tf.summary.histogram(\"weights\", w)\n",
    "        tf.summary.histogram(\"biases\", b)\n",
    "        \n",
    "        return layer_out"
   ]
  },
  {
   "cell_type": "code",
   "execution_count": 17,
   "id": "5723c6d3",
   "metadata": {},
   "outputs": [
    {
     "name": "stdout",
     "output_type": "stream",
     "text": [
      "WARNING:tensorflow:From D:\\Users\\Enes\\anaconda3\\lib\\site-packages\\tensorflow\\python\\util\\dispatch.py:201: calling dropout (from tensorflow.python.ops.nn_ops) with keep_prob is deprecated and will be removed in a future version.\n",
      "Instructions for updating:\n",
      "Please use `rate` instead of `keep_prob`. Rate should be set to `rate = 1 - keep_prob`.\n"
     ]
    }
   ],
   "source": [
    "layer_1 = setup_layer(X, weight_dim=[TOTAL_INPUTS, n_hidden1],\n",
    "                      bias_dim=[n_hidden1],\n",
    "                      name=\"layer_1\")\n",
    "\n",
    "layer_drop = tf.nn.dropout(layer_1, keep_prob=0.8, name=\"dropout_layer\")\n",
    "\n",
    "layer_2 = setup_layer(layer_drop, weight_dim=[n_hidden1, n_hidden2],\n",
    "                      bias_dim=[n_hidden2],\n",
    "                      name=\"layer_2\")\n",
    "\n",
    "output = setup_layer(layer_2, weight_dim=[n_hidden2, NR_CLASSES],\n",
    "                      bias_dim=[NR_CLASSES],\n",
    "                      name=\"out\")\n",
    "\n",
    "model_name = f\"{n_hidden1}-DO-{n_hidden2} LR{learning_rate} E{nr_epochs}\""
   ]
  },
  {
   "cell_type": "markdown",
   "id": "0c9e10df",
   "metadata": {},
   "source": [
    "# Tensorboard Setup"
   ]
  },
  {
   "cell_type": "code",
   "execution_count": 18,
   "id": "f7dab4d3",
   "metadata": {},
   "outputs": [
    {
     "name": "stdout",
     "output_type": "stream",
     "text": [
      "Successfully created directories!\n"
     ]
    }
   ],
   "source": [
    "folder_name = f'{model_name} at {strftime(\"%H %M\")}'\n",
    "directory = os.path.join(LOGGING_PATH, folder_name)\n",
    "\n",
    "try:\n",
    "    os.makedirs(directory)\n",
    "except OSError as exception:\n",
    "    print(exception.strerror)\n",
    "else:\n",
    "    print(\"Successfully created directories!\")"
   ]
  },
  {
   "cell_type": "markdown",
   "id": "1978962f",
   "metadata": {},
   "source": [
    "# Loss, Optimisation & Metrics\n",
    "\n",
    "### Defining Loss Function"
   ]
  },
  {
   "cell_type": "code",
   "execution_count": 19,
   "id": "52405262",
   "metadata": {},
   "outputs": [],
   "source": [
    "with tf.name_scope(\"loss_calc\"):\n",
    "    loss = tf.reduce_mean(tf.nn.softmax_cross_entropy_with_logits_v2(labels=Y, logits=output))"
   ]
  },
  {
   "cell_type": "markdown",
   "id": "efa4f197",
   "metadata": {},
   "source": [
    "### Defining Optimizer"
   ]
  },
  {
   "cell_type": "code",
   "execution_count": 20,
   "id": "bba8d9c0",
   "metadata": {},
   "outputs": [],
   "source": [
    "with tf.name_scope(\"optimizer\"):\n",
    "    optimizer = tf.train.AdamOptimizer(learning_rate)\n",
    "    train_step = optimizer.minimize(loss)"
   ]
  },
  {
   "cell_type": "markdown",
   "id": "edb1cbc6",
   "metadata": {},
   "source": [
    "### Accuracy Metric"
   ]
  },
  {
   "cell_type": "code",
   "execution_count": 21,
   "id": "794d2853",
   "metadata": {},
   "outputs": [],
   "source": [
    "with tf.name_scope(\"accuracy_calc\"):\n",
    "    correct_pred = tf.equal(tf.argmax(output, axis=1), tf.argmax(Y, axis=1))\n",
    "    accuracy = tf.reduce_mean(tf.cast(correct_pred, tf.float32))"
   ]
  },
  {
   "cell_type": "code",
   "execution_count": 22,
   "id": "2ad47a11",
   "metadata": {},
   "outputs": [],
   "source": [
    "with tf.name_scope(\"performance\"):\n",
    "    tf.summary.scalar('accuracy', accuracy)\n",
    "    tf.summary.scalar(\"cost\", loss)"
   ]
  },
  {
   "cell_type": "markdown",
   "id": "e47040aa",
   "metadata": {},
   "source": [
    "# Run Session"
   ]
  },
  {
   "cell_type": "code",
   "execution_count": 23,
   "id": "283689f8",
   "metadata": {},
   "outputs": [],
   "source": [
    "sess = tf.Session()"
   ]
  },
  {
   "cell_type": "markdown",
   "id": "39b2476a",
   "metadata": {},
   "source": [
    "### Setup Filewriter and Merge Summaries"
   ]
  },
  {
   "cell_type": "code",
   "execution_count": 24,
   "id": "9dde15c0",
   "metadata": {},
   "outputs": [],
   "source": [
    "merged_summary = tf.summary.merge_all()\n",
    "\n",
    "train_writer = tf.summary.FileWriter(directory + \"/train\")\n",
    "train_writer.add_graph(sess.graph)\n",
    "\n",
    "validation_writer = tf.summary.FileWriter(directory + \"/validation\")"
   ]
  },
  {
   "cell_type": "markdown",
   "id": "b7a38481",
   "metadata": {},
   "source": [
    "### Init all the variables"
   ]
  },
  {
   "cell_type": "code",
   "execution_count": 25,
   "id": "2728008b",
   "metadata": {},
   "outputs": [],
   "source": [
    "init = tf.global_variables_initializer()\n",
    "sess.run(init)"
   ]
  },
  {
   "cell_type": "markdown",
   "id": "f9758757",
   "metadata": {},
   "source": [
    "## Batching the Data"
   ]
  },
  {
   "cell_type": "code",
   "execution_count": 26,
   "id": "350960e6",
   "metadata": {},
   "outputs": [],
   "source": [
    "size_of_batch = 1000\n",
    "\n",
    "num_examples = y_train.shape[0]\n",
    "nr_iterations = int(num_examples/size_of_batch)\n",
    "\n",
    "index_in_epoch = 0"
   ]
  },
  {
   "cell_type": "code",
   "execution_count": 27,
   "id": "990651cc",
   "metadata": {},
   "outputs": [],
   "source": [
    "def next_batch(batch_size, data, labels):\n",
    "    \n",
    "    global num_examples\n",
    "    global index_in_epoch\n",
    "    \n",
    "    start = index_in_epoch\n",
    "    index_in_epoch += batch_size\n",
    "    \n",
    "    if index_in_epoch > num_examples:\n",
    "        start = 0\n",
    "        index_in_epoch = batch_size\n",
    "    \n",
    "    end = index_in_epoch\n",
    "    \n",
    "    return data[start:end], labels[start:end]"
   ]
  },
  {
   "cell_type": "markdown",
   "id": "913d9771",
   "metadata": {},
   "source": [
    "## Training loop"
   ]
  },
  {
   "cell_type": "code",
   "execution_count": 28,
   "id": "144fca37",
   "metadata": {},
   "outputs": [
    {
     "name": "stdout",
     "output_type": "stream",
     "text": [
      "Epoch 0 \t| Training Accuracy = 0.5049999952316284\n",
      "Epoch 1 \t| Training Accuracy = 0.5989999771118164\n",
      "Epoch 2 \t| Training Accuracy = 0.7200000286102295\n",
      "Epoch 3 \t| Training Accuracy = 0.7419999837875366\n",
      "Epoch 4 \t| Training Accuracy = 0.7379999756813049\n",
      "Epoch 5 \t| Training Accuracy = 0.7419999837875366\n",
      "Epoch 6 \t| Training Accuracy = 0.7419999837875366\n",
      "Epoch 7 \t| Training Accuracy = 0.7599999904632568\n",
      "Epoch 8 \t| Training Accuracy = 0.7440000176429749\n",
      "Epoch 9 \t| Training Accuracy = 0.7580000162124634\n",
      "Epoch 10 \t| Training Accuracy = 0.7680000066757202\n",
      "Epoch 11 \t| Training Accuracy = 0.7599999904632568\n",
      "Epoch 12 \t| Training Accuracy = 0.746999979019165\n",
      "Epoch 13 \t| Training Accuracy = 0.7599999904632568\n",
      "Epoch 14 \t| Training Accuracy = 0.7599999904632568\n",
      "Epoch 15 \t| Training Accuracy = 0.7519999742507935\n",
      "Epoch 16 \t| Training Accuracy = 0.7440000176429749\n",
      "Epoch 17 \t| Training Accuracy = 0.7609999775886536\n",
      "Epoch 18 \t| Training Accuracy = 0.7630000114440918\n",
      "Epoch 19 \t| Training Accuracy = 0.7559999823570251\n",
      "Epoch 20 \t| Training Accuracy = 0.7559999823570251\n",
      "Epoch 21 \t| Training Accuracy = 0.7699999809265137\n",
      "Epoch 22 \t| Training Accuracy = 0.7630000114440918\n",
      "Epoch 23 \t| Training Accuracy = 0.7710000276565552\n",
      "Epoch 24 \t| Training Accuracy = 0.7760000228881836\n",
      "Epoch 25 \t| Training Accuracy = 0.7720000147819519\n",
      "Epoch 26 \t| Training Accuracy = 0.7689999938011169\n",
      "Epoch 27 \t| Training Accuracy = 0.7770000100135803\n",
      "Epoch 28 \t| Training Accuracy = 0.777999997138977\n",
      "Epoch 29 \t| Training Accuracy = 0.7720000147819519\n",
      "Epoch 30 \t| Training Accuracy = 0.7739999890327454\n",
      "Epoch 31 \t| Training Accuracy = 0.7590000033378601\n",
      "Epoch 32 \t| Training Accuracy = 0.7749999761581421\n",
      "Epoch 33 \t| Training Accuracy = 0.7730000019073486\n",
      "Epoch 34 \t| Training Accuracy = 0.7630000114440918\n",
      "Epoch 35 \t| Training Accuracy = 0.7699999809265137\n",
      "Epoch 36 \t| Training Accuracy = 0.7699999809265137\n",
      "Epoch 37 \t| Training Accuracy = 0.7799999713897705\n",
      "Epoch 38 \t| Training Accuracy = 0.7670000195503235\n",
      "Epoch 39 \t| Training Accuracy = 0.7720000147819519\n",
      "Epoch 40 \t| Training Accuracy = 0.7630000114440918\n",
      "Epoch 41 \t| Training Accuracy = 0.7599999904632568\n",
      "Epoch 42 \t| Training Accuracy = 0.7720000147819519\n",
      "Epoch 43 \t| Training Accuracy = 0.765999972820282\n",
      "Epoch 44 \t| Training Accuracy = 0.7689999938011169\n",
      "Epoch 45 \t| Training Accuracy = 0.7620000243186951\n",
      "Epoch 46 \t| Training Accuracy = 0.7639999985694885\n",
      "Epoch 47 \t| Training Accuracy = 0.7580000162124634\n",
      "Epoch 48 \t| Training Accuracy = 0.7620000243186951\n",
      "Epoch 49 \t| Training Accuracy = 0.7720000147819519\n",
      "Done Training\n"
     ]
    }
   ],
   "source": [
    "for epoch in range(nr_epochs):\n",
    "    \n",
    "    # ============== Training Dataset ============== #\n",
    "    for i in range(nr_iterations):\n",
    "        batch_x, batch_y = next_batch(batch_size=size_of_batch, data=x_train,\n",
    "                                     labels=y_train)\n",
    "        feed_dictinoray = {\n",
    "            X:batch_x,\n",
    "            Y:batch_y\n",
    "        }\n",
    "        sess.run(train_step, feed_dict=feed_dictinoray)\n",
    "        \n",
    "    s, batch_accuracy = sess.run(fetches=[merged_summary, accuracy], feed_dict=feed_dictinoray)\n",
    "    \n",
    "    train_writer.add_summary(s, epoch)\n",
    "    \n",
    "    print(f\"Epoch {epoch} \\t| Training Accuracy = {batch_accuracy}\")\n",
    "    \n",
    "    # ============== Validation Dataset ============== #\n",
    "    summary = sess.run(fetches=merged_summary, feed_dict={X:x_val, Y:y_val})\n",
    "    validation_writer.add_summary(summary, epoch)\n",
    "    \n",
    "\n",
    "print(\"Done Training\")"
   ]
  },
  {
   "cell_type": "markdown",
   "id": "29e63c85",
   "metadata": {},
   "source": [
    "# Make Prediction"
   ]
  },
  {
   "cell_type": "code",
   "execution_count": 29,
   "id": "709d0ce8",
   "metadata": {},
   "outputs": [
    {
     "data": {
      "image/png": "[encoded data removed]",
      "text/plain": [
       "<PIL.PngImagePlugin.PngImageFile image mode=RGBA size=28x28 at 0x27F3A098250>"
      ]
     },
     "execution_count": 29,
     "metadata": {},
     "output_type": "execute_result"
    }
   ],
   "source": [
    "img = Image.open(TEST_IMG_PATH)\n",
    "img"
   ]
  },
  {
   "cell_type": "code",
   "execution_count": 30,
   "id": "2ce7ccb0",
   "metadata": {},
   "outputs": [
    {
     "data": {
      "text/plain": [
       "(28, 28)"
      ]
     },
     "execution_count": 30,
     "metadata": {},
     "output_type": "execute_result"
    }
   ],
   "source": [
    "# Because the training set images are black on white.\n",
    "# But the test image is white on black.\n",
    "bw = img.convert(\"L\") \n",
    "img_array = np.invert(bw)\n",
    "img_array.shape"
   ]
  },
  {
   "cell_type": "code",
   "execution_count": 31,
   "id": "228df686",
   "metadata": {},
   "outputs": [
    {
     "data": {
      "text/plain": [
       "(784,)"
      ]
     },
     "execution_count": 31,
     "metadata": {},
     "output_type": "execute_result"
    }
   ],
   "source": [
    "test_img = img_array.ravel()\n",
    "test_img.shape"
   ]
  },
  {
   "cell_type": "code",
   "execution_count": 32,
   "id": "df387afb",
   "metadata": {},
   "outputs": [],
   "source": [
    "prediction = sess.run(fetches=tf.argmax(output, axis=1), feed_dict={X: [test_img]})"
   ]
  },
  {
   "cell_type": "code",
   "execution_count": 36,
   "id": "5bb01236",
   "metadata": {},
   "outputs": [
    {
     "name": "stdout",
     "output_type": "stream",
     "text": [
      "Prediction for test images is [2]\n"
     ]
    },
    {
     "data": {
      "image/png": "[encoded data removed]",
      "text/plain": [
       "<PIL.PngImagePlugin.PngImageFile image mode=RGBA size=28x28 at 0x27F3A098250>"
      ]
     },
     "execution_count": 36,
     "metadata": {},
     "output_type": "execute_result"
    }
   ],
   "source": [
    "print(f\"Prediction for test images is {prediction}\")\n",
    "img"
   ]
  },
  {
   "cell_type": "markdown",
   "id": "d80ac3e6",
   "metadata": {},
   "source": [
    "# Testing and Evaluation"
   ]
  },
  {
   "cell_type": "code",
   "execution_count": 34,
   "id": "cbca133e",
   "metadata": {},
   "outputs": [
    {
     "name": "stdout",
     "output_type": "stream",
     "text": [
      "Accuracy on test set is 77.08%\n"
     ]
    }
   ],
   "source": [
    "test_accuracy = sess.run(fetches=accuracy, feed_dict={X:x_test, Y:y_test})\n",
    "print(f\"Accuracy on test set is {test_accuracy:0.2%}\")"
   ]
  },
  {
   "cell_type": "markdown",
   "id": "8bdad5cc",
   "metadata": {},
   "source": [
    "# Reset for the Next Run"
   ]
  },
  {
   "cell_type": "code",
   "execution_count": 35,
   "id": "15bc5695",
   "metadata": {},
   "outputs": [],
   "source": [
    "train_writer.close()\n",
    "validation_writer.close()\n",
    "sess.close()\n",
    "tf.reset_default_graph()"
   ]
  }
 ],
 "metadata": {
  "kernelspec": {
   "display_name": "Python 3",
   "language": "python",
   "name": "python3"
  },
  "language_info": {
   "codemirror_mode": {
    "name": "ipython",
    "version": 3
   },
   "file_extension": ".py",
   "mimetype": "text/x-python",
   "name": "python",
   "nbconvert_exporter": "python",
   "pygments_lexer": "ipython3",
   "version": "3.8.8"
  }
 },
 "nbformat": 4,
 "nbformat_minor": 5
}
